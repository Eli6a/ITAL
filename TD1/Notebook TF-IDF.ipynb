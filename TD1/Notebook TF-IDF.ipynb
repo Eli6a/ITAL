{
  "cells": [
    {
      "cell_type": "markdown",
      "metadata": {
        "id": "DY_-W6PdgymP"
      },
      "source": [
        "Chargement des librairies"
      ]
    },
    {
      "cell_type": "code",
      "execution_count": 1,
      "metadata": {
        "id": "T7Zi-qu6grm9"
      },
      "outputs": [],
      "source": [
        "import pandas as pd\n",
        "\n",
        "from sklearn.feature_extraction.text import TfidfVectorizer\n",
        "\n",
        "from sklearn.svm import SVC\n",
        "from sklearn.metrics import accuracy_score, classification_report"
      ]
    },
    {
      "cell_type": "code",
      "execution_count": 2,
      "metadata": {},
      "outputs": [],
      "source": [
        "import os"
      ]
    },
    {
      "cell_type": "markdown",
      "metadata": {
        "id": "_fppQVEKg4tE"
      },
      "source": [
        "Chargement des données d'apprentissage et de test"
      ]
    },
    {
      "cell_type": "code",
      "execution_count": 3,
      "metadata": {},
      "outputs": [
        {
          "data": {
            "text/html": [
              "<div>\n",
              "<style scoped>\n",
              "    .dataframe tbody tr th:only-of-type {\n",
              "        vertical-align: middle;\n",
              "    }\n",
              "\n",
              "    .dataframe tbody tr th {\n",
              "        vertical-align: top;\n",
              "    }\n",
              "\n",
              "    .dataframe thead th {\n",
              "        text-align: right;\n",
              "    }\n",
              "</style>\n",
              "<table border=\"1\" class=\"dataframe\">\n",
              "  <thead>\n",
              "    <tr style=\"text-align: right;\">\n",
              "      <th></th>\n",
              "      <th>id</th>\n",
              "      <th>text</th>\n",
              "      <th>class</th>\n",
              "    </tr>\n",
              "  </thead>\n",
              "  <tbody>\n",
              "    <tr>\n",
              "      <th>0</th>\n",
              "      <td>1</td>\n",
              "      <td>Rencontre avec Dodo La Saumure : «Je ne connai...</td>\n",
              "      <td>objective</td>\n",
              "    </tr>\n",
              "    <tr>\n",
              "      <th>1</th>\n",
              "      <td>2</td>\n",
              "      <td>Galère du dimanche matin: sur DSK,Marthe, 6 an...</td>\n",
              "      <td>negative</td>\n",
              "    </tr>\n",
              "    <tr>\n",
              "      <th>2</th>\n",
              "      <td>3</td>\n",
              "      <td>2011 année noire pour la PQR, seuls 2 quotidie...</td>\n",
              "      <td>objective</td>\n",
              "    </tr>\n",
              "    <tr>\n",
              "      <th>3</th>\n",
              "      <td>4</td>\n",
              "      <td>Le procès civil de l'affaire #DSK, dans le Bro...</td>\n",
              "      <td>objective</td>\n",
              "    </tr>\n",
              "    <tr>\n",
              "      <th>4</th>\n",
              "      <td>5</td>\n",
              "      <td>Heureusement que le candidat n'est pas DSK car...</td>\n",
              "      <td>negative</td>\n",
              "    </tr>\n",
              "    <tr>\n",
              "      <th>...</th>\n",
              "      <td>...</td>\n",
              "      <td>...</td>\n",
              "      <td>...</td>\n",
              "    </tr>\n",
              "    <tr>\n",
              "      <th>3882</th>\n",
              "      <td>3902</td>\n",
              "      <td>J'étais content d'avoir enfin un jour de repos...</td>\n",
              "      <td>mixed</td>\n",
              "    </tr>\n",
              "    <tr>\n",
              "      <th>3883</th>\n",
              "      <td>3903</td>\n",
              "      <td>Pour #TPMP, la télé #transphobe, @guillaumeple...</td>\n",
              "      <td>negative</td>\n",
              "    </tr>\n",
              "    <tr>\n",
              "      <th>3884</th>\n",
              "      <td>3904</td>\n",
              "      <td>Tellement mérité pour RABIOT, très content pou...</td>\n",
              "      <td>positive</td>\n",
              "    </tr>\n",
              "    <tr>\n",
              "      <th>3885</th>\n",
              "      <td>3905</td>\n",
              "      <td>Très content pour Rabiot. Enfin l'immunité dip...</td>\n",
              "      <td>positive</td>\n",
              "    </tr>\n",
              "    <tr>\n",
              "      <th>3886</th>\n",
              "      <td>3906</td>\n",
              "      <td>Content pour rabiot et content que la blague G...</td>\n",
              "      <td>positive</td>\n",
              "    </tr>\n",
              "  </tbody>\n",
              "</table>\n",
              "<p>3887 rows × 3 columns</p>\n",
              "</div>"
            ],
            "text/plain": [
              "        id                                               text      class\n",
              "0        1  Rencontre avec Dodo La Saumure : «Je ne connai...  objective\n",
              "1        2  Galère du dimanche matin: sur DSK,Marthe, 6 an...   negative\n",
              "2        3  2011 année noire pour la PQR, seuls 2 quotidie...  objective\n",
              "3        4  Le procès civil de l'affaire #DSK, dans le Bro...  objective\n",
              "4        5  Heureusement que le candidat n'est pas DSK car...   negative\n",
              "...    ...                                                ...        ...\n",
              "3882  3902  J'étais content d'avoir enfin un jour de repos...      mixed\n",
              "3883  3903  Pour #TPMP, la télé #transphobe, @guillaumeple...   negative\n",
              "3884  3904  Tellement mérité pour RABIOT, très content pou...   positive\n",
              "3885  3905  Très content pour Rabiot. Enfin l'immunité dip...   positive\n",
              "3886  3906  Content pour rabiot et content que la blague G...   positive\n",
              "\n",
              "[3887 rows x 3 columns]"
            ]
          },
          "execution_count": 3,
          "metadata": {},
          "output_type": "execute_result"
        }
      ],
      "source": [
        "\n",
        "directory_path = os.path.abspath('')\n",
        "data_train = pd.read_csv(directory_path + '/data_deft2017/task1-train.csv', names = ['id', 'text', 'class'], sep = '\\t', skiprows=10)\n",
        "data_test = pd.read_csv(directory_path + '/data_deft2017/task1-testGold.csv', names = ['id', 'text', 'class'], sep = '\\t', skiprows=10)\n",
        "\n",
        "data_train"
      ]
    },
    {
      "cell_type": "markdown",
      "metadata": {
        "id": "dPDAfbM3g-pj"
      },
      "source": [
        "Gestion des valeurs manquantes dans les données"
      ]
    },
    {
      "cell_type": "code",
      "execution_count": 4,
      "metadata": {
        "id": "kswSOqd0hHWU"
      },
      "outputs": [
        {
          "name": "stdout",
          "output_type": "stream",
          "text": [
            "id       0\n",
            "text     0\n",
            "class    0\n",
            "dtype: int64\n"
          ]
        }
      ],
      "source": [
        "print(data_train.isnull().sum())"
      ]
    },
    {
      "cell_type": "markdown",
      "metadata": {
        "id": "9882gVv1hHtQ"
      },
      "source": [
        "Gestion des valeurs manquantes dans les données"
      ]
    },
    {
      "cell_type": "code",
      "execution_count": 5,
      "metadata": {
        "id": "7tlGWPPvhRnl"
      },
      "outputs": [
        {
          "name": "stdout",
          "output_type": "stream",
          "text": [
            "id       0\n",
            "text     0\n",
            "class    0\n",
            "dtype: int64\n"
          ]
        }
      ],
      "source": [
        "print(data_test.isnull().sum())"
      ]
    },
    {
      "cell_type": "markdown",
      "metadata": {
        "id": "tkDd3PpthSFP"
      },
      "source": [
        "Vectorisation avec TF.IDF des données textes"
      ]
    },
    {
      "cell_type": "code",
      "execution_count": 6,
      "metadata": {
        "id": "pXn5YqRIhYlr"
      },
      "outputs": [],
      "source": [
        "vectorizer = TfidfVectorizer()\n",
        "\n",
        "x_train_vectorized = vectorizer.fit_transform(list(data_train['text']))"
      ]
    },
    {
      "cell_type": "markdown",
      "metadata": {
        "id": "My71sR7bhYZ9"
      },
      "source": [
        "Apprentissage du SVM"
      ]
    },
    {
      "cell_type": "code",
      "execution_count": 7,
      "metadata": {
        "id": "kICPD9UYhehW"
      },
      "outputs": [
        {
          "data": {
            "text/html": [
              "<style>#sk-container-id-1 {color: black;}#sk-container-id-1 pre{padding: 0;}#sk-container-id-1 div.sk-toggleable {background-color: white;}#sk-container-id-1 label.sk-toggleable__label {cursor: pointer;display: block;width: 100%;margin-bottom: 0;padding: 0.3em;box-sizing: border-box;text-align: center;}#sk-container-id-1 label.sk-toggleable__label-arrow:before {content: \"▸\";float: left;margin-right: 0.25em;color: #696969;}#sk-container-id-1 label.sk-toggleable__label-arrow:hover:before {color: black;}#sk-container-id-1 div.sk-estimator:hover label.sk-toggleable__label-arrow:before {color: black;}#sk-container-id-1 div.sk-toggleable__content {max-height: 0;max-width: 0;overflow: hidden;text-align: left;background-color: #f0f8ff;}#sk-container-id-1 div.sk-toggleable__content pre {margin: 0.2em;color: black;border-radius: 0.25em;background-color: #f0f8ff;}#sk-container-id-1 input.sk-toggleable__control:checked~div.sk-toggleable__content {max-height: 200px;max-width: 100%;overflow: auto;}#sk-container-id-1 input.sk-toggleable__control:checked~label.sk-toggleable__label-arrow:before {content: \"▾\";}#sk-container-id-1 div.sk-estimator input.sk-toggleable__control:checked~label.sk-toggleable__label {background-color: #d4ebff;}#sk-container-id-1 div.sk-label input.sk-toggleable__control:checked~label.sk-toggleable__label {background-color: #d4ebff;}#sk-container-id-1 input.sk-hidden--visually {border: 0;clip: rect(1px 1px 1px 1px);clip: rect(1px, 1px, 1px, 1px);height: 1px;margin: -1px;overflow: hidden;padding: 0;position: absolute;width: 1px;}#sk-container-id-1 div.sk-estimator {font-family: monospace;background-color: #f0f8ff;border: 1px dotted black;border-radius: 0.25em;box-sizing: border-box;margin-bottom: 0.5em;}#sk-container-id-1 div.sk-estimator:hover {background-color: #d4ebff;}#sk-container-id-1 div.sk-parallel-item::after {content: \"\";width: 100%;border-bottom: 1px solid gray;flex-grow: 1;}#sk-container-id-1 div.sk-label:hover label.sk-toggleable__label {background-color: #d4ebff;}#sk-container-id-1 div.sk-serial::before {content: \"\";position: absolute;border-left: 1px solid gray;box-sizing: border-box;top: 0;bottom: 0;left: 50%;z-index: 0;}#sk-container-id-1 div.sk-serial {display: flex;flex-direction: column;align-items: center;background-color: white;padding-right: 0.2em;padding-left: 0.2em;position: relative;}#sk-container-id-1 div.sk-item {position: relative;z-index: 1;}#sk-container-id-1 div.sk-parallel {display: flex;align-items: stretch;justify-content: center;background-color: white;position: relative;}#sk-container-id-1 div.sk-item::before, #sk-container-id-1 div.sk-parallel-item::before {content: \"\";position: absolute;border-left: 1px solid gray;box-sizing: border-box;top: 0;bottom: 0;left: 50%;z-index: -1;}#sk-container-id-1 div.sk-parallel-item {display: flex;flex-direction: column;z-index: 1;position: relative;background-color: white;}#sk-container-id-1 div.sk-parallel-item:first-child::after {align-self: flex-end;width: 50%;}#sk-container-id-1 div.sk-parallel-item:last-child::after {align-self: flex-start;width: 50%;}#sk-container-id-1 div.sk-parallel-item:only-child::after {width: 0;}#sk-container-id-1 div.sk-dashed-wrapped {border: 1px dashed gray;margin: 0 0.4em 0.5em 0.4em;box-sizing: border-box;padding-bottom: 0.4em;background-color: white;}#sk-container-id-1 div.sk-label label {font-family: monospace;font-weight: bold;display: inline-block;line-height: 1.2em;}#sk-container-id-1 div.sk-label-container {text-align: center;}#sk-container-id-1 div.sk-container {/* jupyter's `normalize.less` sets `[hidden] { display: none; }` but bootstrap.min.css set `[hidden] { display: none !important; }` so we also need the `!important` here to be able to override the default hidden behavior on the sphinx rendered scikit-learn.org. See: https://github.com/scikit-learn/scikit-learn/issues/21755 */display: inline-block !important;position: relative;}#sk-container-id-1 div.sk-text-repr-fallback {display: none;}</style><div id=\"sk-container-id-1\" class=\"sk-top-container\"><div class=\"sk-text-repr-fallback\"><pre>SVC(kernel=&#x27;linear&#x27;)</pre><b>In a Jupyter environment, please rerun this cell to show the HTML representation or trust the notebook. <br />On GitHub, the HTML representation is unable to render, please try loading this page with nbviewer.org.</b></div><div class=\"sk-container\" hidden><div class=\"sk-item\"><div class=\"sk-estimator sk-toggleable\"><input class=\"sk-toggleable__control sk-hidden--visually\" id=\"sk-estimator-id-1\" type=\"checkbox\" checked><label for=\"sk-estimator-id-1\" class=\"sk-toggleable__label sk-toggleable__label-arrow\">SVC</label><div class=\"sk-toggleable__content\"><pre>SVC(kernel=&#x27;linear&#x27;)</pre></div></div></div></div></div>"
            ],
            "text/plain": [
              "SVC(kernel='linear')"
            ]
          },
          "execution_count": 7,
          "metadata": {},
          "output_type": "execute_result"
        }
      ],
      "source": [
        "svm_model = SVC(kernel='linear')\n",
        "svm_model.fit(x_train_vectorized, list(data_train['class']))"
      ]
    },
    {
      "cell_type": "markdown",
      "metadata": {
        "id": "efB21Zmche7y"
      },
      "source": [
        "Inférence avec le SVM sur les données de test"
      ]
    },
    {
      "cell_type": "code",
      "execution_count": 8,
      "metadata": {
        "id": "SMC5JZ7Phih-"
      },
      "outputs": [
        {
          "name": "stdout",
          "output_type": "stream",
          "text": [
            "['objective' 'negative' 'objective' 'objective' 'objective' 'negative'\n",
            " 'objective' 'objective' 'objective' 'negative' 'objective' 'objective'\n",
            " 'negative' 'objective' 'objective' 'negative' 'negative' 'negative'\n",
            " 'negative' 'negative' 'negative' 'objective' 'objective' 'objective'\n",
            " 'objective' 'negative' 'negative' 'negative' 'objective' 'negative'\n",
            " 'negative' 'negative' 'negative' 'objective' 'objective' 'negative'\n",
            " 'negative' 'objective' 'objective' 'mixed' 'objective' 'negative'\n",
            " 'negative' 'negative' 'objective' 'objective' 'objective' 'negative'\n",
            " 'negative' 'negative' 'objective' 'objective' 'negative' 'mixed'\n",
            " 'objective' 'negative' 'negative' 'negative' 'objective' 'negative'\n",
            " 'objective' 'objective' 'negative' 'negative' 'negative' 'negative'\n",
            " 'objective' 'negative' 'objective' 'negative' 'objective' 'negative'\n",
            " 'negative' 'objective' 'negative' 'negative' 'negative' 'negative'\n",
            " 'negative' 'objective' 'negative' 'negative' 'negative' 'objective'\n",
            " 'negative' 'negative' 'negative' 'negative' 'negative' 'objective'\n",
            " 'negative' 'objective' 'objective' 'objective' 'objective' 'objective'\n",
            " 'negative' 'negative' 'negative' 'objective' 'objective' 'objective'\n",
            " 'objective' 'objective' 'negative' 'negative' 'negative' 'negative'\n",
            " 'objective' 'negative' 'negative' 'negative' 'negative' 'objective'\n",
            " 'negative' 'negative' 'objective' 'negative' 'negative' 'negative'\n",
            " 'mixed' 'positive' 'objective' 'negative' 'negative' 'objective'\n",
            " 'objective' 'negative' 'objective' 'negative' 'negative' 'negative'\n",
            " 'negative' 'objective' 'negative' 'objective' 'negative' 'negative'\n",
            " 'negative' 'objective' 'mixed' 'objective' 'negative' 'negative'\n",
            " 'negative' 'negative' 'negative' 'negative' 'negative' 'negative'\n",
            " 'objective' 'negative' 'mixed' 'negative' 'negative' 'objective'\n",
            " 'negative' 'objective' 'negative' 'negative' 'objective' 'negative'\n",
            " 'negative' 'objective' 'objective' 'negative' 'negative' 'negative'\n",
            " 'objective' 'objective' 'objective' 'objective' 'objective' 'objective'\n",
            " 'negative' 'objective' 'objective' 'negative' 'objective' 'mixed'\n",
            " 'negative' 'negative' 'objective' 'objective' 'objective' 'negative'\n",
            " 'negative' 'objective' 'objective' 'negative' 'negative' 'objective'\n",
            " 'objective' 'objective' 'negative' 'objective' 'objective' 'objective'\n",
            " 'negative' 'negative' 'negative' 'negative' 'negative' 'negative'\n",
            " 'negative' 'mixed' 'negative' 'negative' 'objective' 'negative'\n",
            " 'objective' 'negative' 'negative' 'objective' 'negative' 'objective'\n",
            " 'negative' 'objective' 'negative' 'negative' 'negative' 'objective'\n",
            " 'objective' 'negative' 'negative' 'objective' 'objective' 'objective'\n",
            " 'negative' 'objective' 'negative' 'objective' 'negative' 'objective'\n",
            " 'objective' 'objective' 'objective' 'objective' 'negative' 'objective'\n",
            " 'objective' 'objective' 'negative' 'negative' 'objective' 'negative'\n",
            " 'objective' 'objective' 'negative' 'negative' 'negative' 'objective'\n",
            " 'negative' 'negative' 'objective' 'objective' 'objective' 'negative'\n",
            " 'objective' 'objective' 'objective' 'negative' 'negative' 'negative'\n",
            " 'objective' 'negative' 'negative' 'negative' 'negative' 'objective'\n",
            " 'objective' 'objective' 'objective' 'objective' 'negative' 'objective'\n",
            " 'negative' 'objective' 'objective' 'negative' 'objective' 'negative'\n",
            " 'negative' 'objective' 'negative' 'objective' 'positive' 'objective'\n",
            " 'objective' 'negative' 'objective' 'negative' 'objective' 'negative'\n",
            " 'objective' 'negative' 'objective' 'negative' 'negative' 'negative'\n",
            " 'negative' 'negative' 'negative' 'objective' 'negative' 'negative'\n",
            " 'objective' 'negative' 'objective' 'negative' 'positive' 'positive'\n",
            " 'positive' 'positive' 'positive' 'positive' 'objective' 'positive'\n",
            " 'positive' 'positive' 'positive' 'objective' 'positive' 'positive'\n",
            " 'positive' 'negative' 'objective' 'objective' 'objective' 'positive'\n",
            " 'positive' 'objective' 'objective' 'positive' 'positive' 'objective'\n",
            " 'negative' 'objective' 'negative' 'negative' 'objective' 'negative'\n",
            " 'negative' 'objective' 'objective' 'objective' 'positive' 'objective'\n",
            " 'mixed' 'negative' 'objective' 'negative' 'negative' 'mixed' 'mixed'\n",
            " 'positive' 'mixed' 'negative' 'negative' 'negative' 'negative'\n",
            " 'objective' 'negative' 'negative' 'objective' 'objective' 'negative'\n",
            " 'negative' 'negative' 'objective' 'objective' 'negative' 'objective'\n",
            " 'negative' 'negative' 'objective' 'objective' 'negative' 'objective'\n",
            " 'objective' 'objective' 'negative' 'objective' 'objective' 'negative'\n",
            " 'negative' 'negative' 'negative' 'negative' 'negative' 'negative'\n",
            " 'negative' 'objective' 'negative' 'objective' 'negative' 'objective'\n",
            " 'objective' 'negative' 'negative' 'objective' 'negative' 'objective'\n",
            " 'negative' 'negative' 'objective' 'negative' 'objective' 'objective'\n",
            " 'objective' 'negative' 'negative' 'objective' 'objective' 'objective'\n",
            " 'objective' 'negative' 'objective' 'objective' 'objective' 'negative'\n",
            " 'objective' 'objective' 'negative' 'negative' 'objective' 'negative'\n",
            " 'objective' 'objective' 'negative' 'objective' 'negative' 'objective'\n",
            " 'objective' 'negative' 'negative' 'objective' 'objective' 'objective'\n",
            " 'negative' 'negative' 'negative' 'objective' 'objective' 'negative'\n",
            " 'negative' 'objective' 'negative' 'negative' 'objective' 'objective'\n",
            " 'objective' 'objective' 'negative' 'negative' 'objective' 'objective'\n",
            " 'objective' 'objective' 'objective' 'objective' 'objective' 'negative'\n",
            " 'objective' 'negative' 'negative' 'objective' 'objective' 'objective'\n",
            " 'objective' 'negative' 'objective' 'negative' 'negative' 'objective'\n",
            " 'objective' 'objective' 'objective' 'negative' 'objective' 'negative'\n",
            " 'objective' 'objective' 'objective' 'objective' 'negative' 'objective'\n",
            " 'objective' 'objective' 'objective' 'objective' 'negative' 'negative'\n",
            " 'objective' 'objective' 'objective' 'objective' 'objective' 'objective'\n",
            " 'objective' 'negative' 'objective' 'objective' 'objective' 'negative'\n",
            " 'objective' 'objective' 'objective' 'objective' 'negative' 'objective'\n",
            " 'objective' 'objective' 'objective' 'negative' 'negative' 'objective'\n",
            " 'negative' 'negative' 'objective' 'negative' 'objective' 'objective'\n",
            " 'positive' 'objective' 'objective' 'objective' 'objective' 'objective'\n",
            " 'negative' 'objective' 'negative' 'negative' 'objective' 'objective'\n",
            " 'objective' 'negative' 'objective' 'negative' 'objective' 'objective'\n",
            " 'objective' 'objective' 'objective' 'objective' 'objective' 'objective'\n",
            " 'objective' 'objective' 'objective' 'negative' 'objective' 'negative'\n",
            " 'negative' 'negative' 'objective' 'objective' 'objective' 'objective'\n",
            " 'objective' 'negative' 'objective' 'objective' 'negative' 'objective'\n",
            " 'objective' 'negative' 'objective' 'objective' 'objective' 'negative'\n",
            " 'objective' 'objective' 'objective' 'negative' 'objective' 'objective'\n",
            " 'negative' 'objective' 'negative' 'objective' 'objective' 'objective'\n",
            " 'objective' 'objective' 'objective' 'objective' 'objective' 'objective'\n",
            " 'objective' 'negative' 'negative' 'negative' 'objective' 'objective'\n",
            " 'objective' 'negative' 'objective' 'objective' 'objective' 'negative'\n",
            " 'negative' 'negative' 'objective' 'objective' 'negative' 'negative'\n",
            " 'objective' 'negative' 'positive' 'negative' 'positive' 'negative'\n",
            " 'negative' 'negative' 'negative' 'objective' 'objective' 'objective'\n",
            " 'objective' 'objective' 'objective' 'objective' 'negative' 'negative'\n",
            " 'negative' 'negative' 'objective' 'objective' 'negative' 'negative'\n",
            " 'negative' 'objective' 'negative' 'objective' 'objective' 'negative'\n",
            " 'objective' 'objective' 'objective' 'objective' 'negative' 'objective'\n",
            " 'objective' 'negative' 'objective' 'objective' 'negative' 'negative'\n",
            " 'objective' 'negative' 'negative' 'negative' 'negative' 'negative'\n",
            " 'objective' 'negative' 'objective' 'objective' 'objective' 'objective'\n",
            " 'objective' 'negative' 'negative' 'objective' 'negative' 'negative'\n",
            " 'objective' 'objective' 'objective' 'objective' 'negative' 'negative'\n",
            " 'negative' 'objective' 'objective' 'objective' 'objective' 'negative'\n",
            " 'objective' 'objective' 'negative' 'objective' 'negative' 'objective'\n",
            " 'objective' 'objective' 'negative' 'negative' 'negative' 'objective'\n",
            " 'objective' 'negative' 'negative' 'negative' 'objective' 'negative'\n",
            " 'negative' 'negative' 'positive' 'objective' 'objective' 'objective'\n",
            " 'negative' 'negative' 'objective' 'objective' 'negative' 'objective'\n",
            " 'negative' 'negative' 'negative' 'negative' 'negative' 'negative'\n",
            " 'negative' 'objective' 'objective' 'mixed' 'objective' 'objective'\n",
            " 'objective' 'objective' 'negative' 'objective' 'objective' 'objective'\n",
            " 'objective' 'objective' 'negative' 'negative' 'negative' 'objective'\n",
            " 'objective' 'objective' 'objective' 'objective' 'objective' 'negative'\n",
            " 'objective' 'negative' 'objective' 'objective' 'objective' 'positive'\n",
            " 'objective' 'positive' 'objective' 'negative' 'negative' 'positive'\n",
            " 'objective' 'negative' 'objective' 'objective' 'objective' 'objective'\n",
            " 'objective' 'positive' 'objective' 'objective' 'negative' 'negative'\n",
            " 'objective' 'objective' 'objective' 'mixed' 'objective' 'objective'\n",
            " 'objective' 'objective' 'negative' 'objective' 'objective' 'negative'\n",
            " 'negative' 'negative' 'negative' 'negative' 'negative' 'negative'\n",
            " 'negative' 'negative' 'negative' 'negative' 'positive' 'positive'\n",
            " 'negative' 'objective' 'negative' 'objective' 'positive' 'negative'\n",
            " 'negative' 'negative' 'positive' 'positive' 'objective' 'negative'\n",
            " 'negative' 'negative' 'negative' 'negative' 'positive' 'negative'\n",
            " 'negative' 'negative' 'positive' 'negative' 'positive' 'negative'\n",
            " 'negative' 'mixed' 'negative' 'positive' 'negative' 'positive' 'positive'\n",
            " 'mixed' 'positive' 'negative' 'positive' 'negative' 'positive' 'negative'\n",
            " 'negative' 'negative' 'positive' 'mixed' 'negative' 'positive' 'mixed'\n",
            " 'positive' 'objective' 'positive' 'negative' 'positive' 'negative'\n",
            " 'negative' 'negative' 'negative' 'negative' 'positive' 'positive'\n",
            " 'negative' 'negative' 'positive' 'positive' 'mixed' 'positive' 'negative'\n",
            " 'positive' 'negative' 'objective' 'mixed' 'positive' 'positive'\n",
            " 'positive' 'negative' 'negative' 'negative' 'negative' 'negative'\n",
            " 'positive' 'negative' 'mixed' 'positive' 'negative' 'objective'\n",
            " 'positive' 'positive' 'positive' 'negative' 'negative' 'positive'\n",
            " 'negative' 'positive' 'negative' 'negative' 'positive' 'positive'\n",
            " 'negative' 'negative' 'negative' 'negative' 'positive' 'negative'\n",
            " 'negative' 'positive' 'positive' 'positive' 'negative' 'negative'\n",
            " 'negative' 'negative' 'negative' 'negative' 'positive' 'negative'\n",
            " 'negative' 'negative' 'positive' 'positive' 'negative' 'positive'\n",
            " 'negative' 'objective' 'positive' 'objective' 'positive' 'positive'\n",
            " 'negative' 'negative' 'negative' 'positive' 'negative' 'negative'\n",
            " 'negative' 'negative' 'negative' 'positive' 'negative' 'positive' 'mixed'\n",
            " 'negative' 'negative' 'mixed' 'negative' 'positive' 'negative' 'mixed'\n",
            " 'negative' 'positive' 'negative' 'negative' 'negative' 'negative'\n",
            " 'negative' 'positive' 'negative' 'positive' 'mixed' 'positive' 'negative'\n",
            " 'mixed' 'negative' 'negative' 'positive' 'negative' 'positive' 'positive'\n",
            " 'positive' 'positive' 'positive' 'positive' 'positive']\n"
          ]
        }
      ],
      "source": [
        "x_test_vectorized = vectorizer.transform(list(data_test['text']))\n",
        "y_prediction = svm_model.predict(x_test_vectorized)\n",
        "print(y_prediction)"
      ]
    },
    {
      "cell_type": "markdown",
      "metadata": {
        "id": "2MV-V0J8hiyk"
      },
      "source": [
        "Evaluation du modèle sur les résultats de l'inférence"
      ]
    },
    {
      "cell_type": "code",
      "execution_count": 16,
      "metadata": {
        "id": "kE3RtGZthnIz"
      },
      "outputs": [
        {
          "name": "stdout",
          "output_type": "stream",
          "text": [
            "Accuracy: 0.66\n",
            "  (0, 2777)\t-0.023897112380835764\n",
            "  (0, 4247)\t-0.02083456911066779\n",
            "  (0, 5777)\t-0.023897112380835764\n",
            "  (0, 7747)\t-0.023897112380835764\n",
            "  (0, 2782)\t-0.24524611186786402\n",
            "  (0, 3928)\t-0.24524611186786402\n",
            "  (0, 5921)\t-0.24524611186786402\n",
            "  (0, 6221)\t-0.23364637939353647\n",
            "  (0, 7880)\t-0.5504846558309303\n",
            "  (0, 115)\t-0.244258207615755\n",
            "  (0, 1955)\t-0.2934719150928127\n",
            "  (0, 6291)\t-0.40975881190777963\n",
            "  (0, 7382)\t-0.244258207615755\n",
            "  (0, 11806)\t-0.244258207615755\n",
            "  (0, 10423)\t-0.2415313761212183\n",
            "  (0, 12402)\t-0.480432241294861\n",
            "  (0, 1834)\t-0.16095252062189566\n",
            "  (0, 4563)\t-0.16095252062189566\n",
            "  (0, 9013)\t-0.16095252062189566\n",
            "  (0, 10695)\t-0.30375011342891434\n",
            "  (0, 7640)\t-0.4013948810810617\n",
            "  (0, 2190)\t-0.21990591433729678\n",
            "  (0, 5498)\t-0.47458426660675135\n",
            "  (0, 8025)\t-0.25149081613137736\n",
            "  (0, 8765)\t-0.09044943655123948\n",
            "  :\t:\n",
            "  (5, 11793)\t0.3997609086989434\n",
            "  (5, 4602)\t0.4708020501397293\n",
            "  (5, 12581)\t0.4708020501397293\n",
            "  (5, 247)\t0.12495480998086488\n",
            "  (5, 1665)\t0.12495480998086488\n",
            "  (5, 2097)\t0.12495480998086488\n",
            "  (5, 2771)\t0.1190446556623352\n",
            "  (5, 6189)\t0.12495480998086488\n",
            "  (5, 1575)\t0.19180147752320661\n",
            "  (5, 3555)\t0.19180147752320661\n",
            "  (5, 4226)\t0.20132375573365804\n",
            "  (5, 9515)\t-0.16529557373127343\n",
            "  (5, 12569)\t0.20132375573365804\n",
            "  (5, 2470)\t0.06161182415370142\n",
            "  (5, 2493)\t0.3537375618590646\n",
            "  (5, 3628)\t-2.0591888465641905\n",
            "  (5, 8542)\t0.3537375618590646\n",
            "  (5, 10923)\t0.3537375618590646\n",
            "  (5, 2750)\t0.34616718205061114\n",
            "  (5, 7386)\t0.34616718205061114\n",
            "  (5, 11631)\t0.34616718205061114\n",
            "  (5, 655)\t0.34678543108990156\n",
            "  (5, 3249)\t0.34678543108990156\n",
            "  (5, 10935)\t0.34678543108990156\n",
            "  (5, 6253)\t-0.5781661320108491\n"
          ]
        }
      ],
      "source": [
        "accuracy = accuracy_score(list(data_test['class']), y_prediction)\n",
        "print(f'Accuracy: {accuracy:.2f}')\n",
        "\n",
        "print(svm_model.coef_)\n"
      ]
    }
  ],
  "metadata": {
    "colab": {
      "provenance": []
    },
    "kernelspec": {
      "display_name": "Python 3",
      "name": "python3"
    },
    "language_info": {
      "codemirror_mode": {
        "name": "ipython",
        "version": 3
      },
      "file_extension": ".py",
      "mimetype": "text/x-python",
      "name": "python",
      "nbconvert_exporter": "python",
      "pygments_lexer": "ipython3",
      "version": "3.10.12"
    }
  },
  "nbformat": 4,
  "nbformat_minor": 0
}
