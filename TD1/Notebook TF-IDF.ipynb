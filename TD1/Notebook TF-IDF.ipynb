{
  "cells": [
    {
      "cell_type": "markdown",
      "metadata": {
        "id": "DY_-W6PdgymP"
      },
      "source": [
        "Chargement des librairies"
      ]
    },
    {
      "cell_type": "code",
      "execution_count": 14,
      "metadata": {
        "id": "T7Zi-qu6grm9"
      },
      "outputs": [],
      "source": [
        "import pandas as pd\n",
        "from sklearn.feature_extraction.text import TfidfVectorizer\n",
        "from sklearn.svm import SVC\n",
        "from sklearn.metrics import accuracy_score, classification_report"
      ]
    },
    {
      "cell_type": "code",
      "execution_count": 41,
      "metadata": {},
      "outputs": [],
      "source": [
        "import os\n",
        "import spacy"
      ]
    },
    {
      "cell_type": "markdown",
      "metadata": {
        "id": "_fppQVEKg4tE"
      },
      "source": [
        "Chargement des données d'apprentissage et de test"
      ]
    },
    {
      "cell_type": "code",
      "execution_count": 29,
      "metadata": {},
      "outputs": [
        {
          "data": {
            "text/html": [
              "<div>\n",
              "<style scoped>\n",
              "    .dataframe tbody tr th:only-of-type {\n",
              "        vertical-align: middle;\n",
              "    }\n",
              "\n",
              "    .dataframe tbody tr th {\n",
              "        vertical-align: top;\n",
              "    }\n",
              "\n",
              "    .dataframe thead th {\n",
              "        text-align: right;\n",
              "    }\n",
              "</style>\n",
              "<table border=\"1\" class=\"dataframe\">\n",
              "  <thead>\n",
              "    <tr style=\"text-align: right;\">\n",
              "      <th></th>\n",
              "      <th>id</th>\n",
              "      <th>text</th>\n",
              "      <th>class</th>\n",
              "    </tr>\n",
              "  </thead>\n",
              "  <tbody>\n",
              "    <tr>\n",
              "      <th>0</th>\n",
              "      <td>1</td>\n",
              "      <td>Rencontre avec Dodo La Saumure : «Je ne connai...</td>\n",
              "      <td>objective</td>\n",
              "    </tr>\n",
              "    <tr>\n",
              "      <th>1</th>\n",
              "      <td>2</td>\n",
              "      <td>Galère du dimanche matin: sur DSK,Marthe, 6 an...</td>\n",
              "      <td>negative</td>\n",
              "    </tr>\n",
              "    <tr>\n",
              "      <th>2</th>\n",
              "      <td>3</td>\n",
              "      <td>2011 année noire pour la PQR, seuls 2 quotidie...</td>\n",
              "      <td>objective</td>\n",
              "    </tr>\n",
              "    <tr>\n",
              "      <th>3</th>\n",
              "      <td>4</td>\n",
              "      <td>Le procès civil de l'affaire #DSK, dans le Bro...</td>\n",
              "      <td>objective</td>\n",
              "    </tr>\n",
              "    <tr>\n",
              "      <th>4</th>\n",
              "      <td>5</td>\n",
              "      <td>Heureusement que le candidat n'est pas DSK car...</td>\n",
              "      <td>negative</td>\n",
              "    </tr>\n",
              "    <tr>\n",
              "      <th>...</th>\n",
              "      <td>...</td>\n",
              "      <td>...</td>\n",
              "      <td>...</td>\n",
              "    </tr>\n",
              "    <tr>\n",
              "      <th>3882</th>\n",
              "      <td>3902</td>\n",
              "      <td>J'étais content d'avoir enfin un jour de repos...</td>\n",
              "      <td>mixed</td>\n",
              "    </tr>\n",
              "    <tr>\n",
              "      <th>3883</th>\n",
              "      <td>3903</td>\n",
              "      <td>Pour #TPMP, la télé #transphobe, @guillaumeple...</td>\n",
              "      <td>negative</td>\n",
              "    </tr>\n",
              "    <tr>\n",
              "      <th>3884</th>\n",
              "      <td>3904</td>\n",
              "      <td>Tellement mérité pour RABIOT, très content pou...</td>\n",
              "      <td>positive</td>\n",
              "    </tr>\n",
              "    <tr>\n",
              "      <th>3885</th>\n",
              "      <td>3905</td>\n",
              "      <td>Très content pour Rabiot. Enfin l'immunité dip...</td>\n",
              "      <td>positive</td>\n",
              "    </tr>\n",
              "    <tr>\n",
              "      <th>3886</th>\n",
              "      <td>3906</td>\n",
              "      <td>Content pour rabiot et content que la blague G...</td>\n",
              "      <td>positive</td>\n",
              "    </tr>\n",
              "  </tbody>\n",
              "</table>\n",
              "<p>3887 rows × 3 columns</p>\n",
              "</div>"
            ],
            "text/plain": [
              "        id                                               text      class\n",
              "0        1  Rencontre avec Dodo La Saumure : «Je ne connai...  objective\n",
              "1        2  Galère du dimanche matin: sur DSK,Marthe, 6 an...   negative\n",
              "2        3  2011 année noire pour la PQR, seuls 2 quotidie...  objective\n",
              "3        4  Le procès civil de l'affaire #DSK, dans le Bro...  objective\n",
              "4        5  Heureusement que le candidat n'est pas DSK car...   negative\n",
              "...    ...                                                ...        ...\n",
              "3882  3902  J'étais content d'avoir enfin un jour de repos...      mixed\n",
              "3883  3903  Pour #TPMP, la télé #transphobe, @guillaumeple...   negative\n",
              "3884  3904  Tellement mérité pour RABIOT, très content pou...   positive\n",
              "3885  3905  Très content pour Rabiot. Enfin l'immunité dip...   positive\n",
              "3886  3906  Content pour rabiot et content que la blague G...   positive\n",
              "\n",
              "[3887 rows x 3 columns]"
            ]
          },
          "execution_count": 29,
          "metadata": {},
          "output_type": "execute_result"
        }
      ],
      "source": [
        "\n",
        "directory_path = os.path.abspath('')\n",
        "data_train = pd.read_csv(directory_path + '/data_deft2017/task1-train.csv', names = ['id', 'text', 'class'], sep = '\\t', skiprows=10)\n",
        "data_test = pd.read_csv(directory_path + '/data_deft2017/task1-testGold.csv', names = ['id', 'text', 'class'], sep = '\\t', skiprows=10)\n",
        "\n",
        "data_train"
      ]
    },
    {
      "cell_type": "code",
      "execution_count": 45,
      "metadata": {},
      "outputs": [],
      "source": [
        "nlp = spacy.load(\"fr_core_news_sm\")\n",
        "\n",
        "def segment_to_words(text):\n",
        "    doc = nlp(text)\n",
        "    words = [token.text for token in doc]\n",
        "    return words\n",
        "\n",
        "words_train = data_train['text'].apply(segment_to_words)\n",
        "\n",
        "words_test = data_test['text'].apply(segment_to_words)\n"
      ]
    },
    {
      "cell_type": "code",
      "execution_count": 50,
      "metadata": {
        "id": "j21CiZyUg3AP"
      },
      "outputs": [
        {
          "ename": "TypeError",
          "evalue": "unhashable type: 'list'",
          "output_type": "error",
          "traceback": [
            "\u001b[0;31m---------------------------------------------------------------------------\u001b[0m",
            "\u001b[0;31mTypeError\u001b[0m                                 Traceback (most recent call last)",
            "\u001b[1;32m/home/eli/Téléchargements/ITAL/TD1/Notebook TF-IDF.ipynb Cell 7\u001b[0m line \u001b[0;36m1\n\u001b[0;32m----> <a href='vscode-notebook-cell:/home/eli/T%C3%A9l%C3%A9chargements/ITAL/TD1/Notebook%20TF-IDF.ipynb#W3sZmlsZQ%3D%3D?line=0'>1</a>\u001b[0m lexique_train \u001b[39m=\u001b[39m \u001b[39mset\u001b[39;49m(words_train)\n\u001b[1;32m      <a href='vscode-notebook-cell:/home/eli/T%C3%A9l%C3%A9chargements/ITAL/TD1/Notebook%20TF-IDF.ipynb#W3sZmlsZQ%3D%3D?line=1'>2</a>\u001b[0m lexique_test \u001b[39m=\u001b[39m \u001b[39mset\u001b[39m(words_test)\n",
            "\u001b[0;31mTypeError\u001b[0m: unhashable type: 'list'"
          ]
        }
      ],
      "source": [
        "lexique_train = set(words_train)\n",
        "lexique_test = set(words_test)\n"
      ]
    },
    {
      "cell_type": "markdown",
      "metadata": {
        "id": "dPDAfbM3g-pj"
      },
      "source": [
        "Gestion des valeurs manquantes dans les données"
      ]
    },
    {
      "cell_type": "code",
      "execution_count": 31,
      "metadata": {
        "id": "kswSOqd0hHWU"
      },
      "outputs": [
        {
          "name": "stdout",
          "output_type": "stream",
          "text": [
            "Defaulting to user installation because normal site-packages is not writeable\n",
            "Requirement already satisfied: spacy in /home/eli/.local/lib/python3.10/site-packages (3.7.2)\n",
            "Requirement already satisfied: weasel<0.4.0,>=0.1.0 in /home/eli/.local/lib/python3.10/site-packages (from spacy) (0.3.4)\n",
            "Requirement already satisfied: wasabi<1.2.0,>=0.9.1 in /home/eli/.local/lib/python3.10/site-packages (from spacy) (1.1.2)\n",
            "Requirement already satisfied: murmurhash<1.1.0,>=0.28.0 in /home/eli/.local/lib/python3.10/site-packages (from spacy) (1.0.10)\n",
            "Requirement already satisfied: pydantic!=1.8,!=1.8.1,<3.0.0,>=1.7.4 in /home/eli/.local/lib/python3.10/site-packages (from spacy) (2.5.3)\n",
            "Requirement already satisfied: numpy>=1.19.0 in /home/eli/.local/lib/python3.10/site-packages (from spacy) (1.26.3)\n",
            "Requirement already satisfied: srsly<3.0.0,>=2.4.3 in /home/eli/.local/lib/python3.10/site-packages (from spacy) (2.4.8)\n",
            "Requirement already satisfied: tqdm<5.0.0,>=4.38.0 in /home/eli/.local/lib/python3.10/site-packages (from spacy) (4.66.1)\n",
            "Requirement already satisfied: catalogue<2.1.0,>=2.0.6 in /home/eli/.local/lib/python3.10/site-packages (from spacy) (2.0.10)\n",
            "Requirement already satisfied: spacy-loggers<2.0.0,>=1.0.0 in /home/eli/.local/lib/python3.10/site-packages (from spacy) (1.0.5)\n",
            "Requirement already satisfied: smart-open<7.0.0,>=5.2.1 in /home/eli/.local/lib/python3.10/site-packages (from spacy) (6.4.0)\n",
            "Requirement already satisfied: requests<3.0.0,>=2.13.0 in /home/eli/.local/lib/python3.10/site-packages (from spacy) (2.31.0)\n",
            "Requirement already satisfied: preshed<3.1.0,>=3.0.2 in /home/eli/.local/lib/python3.10/site-packages (from spacy) (3.0.9)\n",
            "Requirement already satisfied: langcodes<4.0.0,>=3.2.0 in /home/eli/.local/lib/python3.10/site-packages (from spacy) (3.3.0)\n",
            "Requirement already satisfied: setuptools in /usr/lib/python3/dist-packages (from spacy) (59.6.0)\n",
            "Requirement already satisfied: thinc<8.3.0,>=8.1.8 in /home/eli/.local/lib/python3.10/site-packages (from spacy) (8.2.2)\n",
            "Requirement already satisfied: cymem<2.1.0,>=2.0.2 in /home/eli/.local/lib/python3.10/site-packages (from spacy) (2.0.8)\n",
            "Requirement already satisfied: spacy-legacy<3.1.0,>=3.0.11 in /home/eli/.local/lib/python3.10/site-packages (from spacy) (3.0.12)\n",
            "Requirement already satisfied: typer<0.10.0,>=0.3.0 in /home/eli/.local/lib/python3.10/site-packages (from spacy) (0.9.0)\n",
            "Requirement already satisfied: packaging>=20.0 in /home/eli/.local/lib/python3.10/site-packages (from spacy) (23.2)\n",
            "Requirement already satisfied: jinja2 in /home/eli/.local/lib/python3.10/site-packages (from spacy) (3.1.3)\n",
            "Requirement already satisfied: typing-extensions>=4.6.1 in /home/eli/.local/lib/python3.10/site-packages (from pydantic!=1.8,!=1.8.1,<3.0.0,>=1.7.4->spacy) (4.9.0)\n",
            "Requirement already satisfied: annotated-types>=0.4.0 in /home/eli/.local/lib/python3.10/site-packages (from pydantic!=1.8,!=1.8.1,<3.0.0,>=1.7.4->spacy) (0.6.0)\n",
            "Requirement already satisfied: pydantic-core==2.14.6 in /home/eli/.local/lib/python3.10/site-packages (from pydantic!=1.8,!=1.8.1,<3.0.0,>=1.7.4->spacy) (2.14.6)\n",
            "Requirement already satisfied: certifi>=2017.4.17 in /usr/lib/python3/dist-packages (from requests<3.0.0,>=2.13.0->spacy) (2020.6.20)\n",
            "Requirement already satisfied: urllib3<3,>=1.21.1 in /usr/lib/python3/dist-packages (from requests<3.0.0,>=2.13.0->spacy) (1.26.5)\n",
            "Requirement already satisfied: idna<4,>=2.5 in /usr/lib/python3/dist-packages (from requests<3.0.0,>=2.13.0->spacy) (3.3)\n",
            "Requirement already satisfied: charset-normalizer<4,>=2 in /home/eli/.local/lib/python3.10/site-packages (from requests<3.0.0,>=2.13.0->spacy) (3.3.2)\n",
            "Requirement already satisfied: blis<0.8.0,>=0.7.8 in /home/eli/.local/lib/python3.10/site-packages (from thinc<8.3.0,>=8.1.8->spacy) (0.7.11)\n",
            "Requirement already satisfied: confection<1.0.0,>=0.0.1 in /home/eli/.local/lib/python3.10/site-packages (from thinc<8.3.0,>=8.1.8->spacy) (0.1.4)\n",
            "Requirement already satisfied: click<9.0.0,>=7.1.1 in /usr/lib/python3/dist-packages (from typer<0.10.0,>=0.3.0->spacy) (8.0.3)\n",
            "Requirement already satisfied: cloudpathlib<0.17.0,>=0.7.0 in /home/eli/.local/lib/python3.10/site-packages (from weasel<0.4.0,>=0.1.0->spacy) (0.16.0)\n",
            "Requirement already satisfied: MarkupSafe>=2.0 in /home/eli/.local/lib/python3.10/site-packages (from jinja2->spacy) (2.1.3)\n",
            "Note: you may need to restart the kernel to use updated packages.\n"
          ]
        }
      ],
      "source": []
    },
    {
      "cell_type": "markdown",
      "metadata": {
        "id": "9882gVv1hHtQ"
      },
      "source": [
        "Gestion des valeurs manquantes dans les données"
      ]
    },
    {
      "cell_type": "code",
      "execution_count": null,
      "metadata": {
        "id": "7tlGWPPvhRnl"
      },
      "outputs": [],
      "source": []
    },
    {
      "cell_type": "markdown",
      "metadata": {
        "id": "tkDd3PpthSFP"
      },
      "source": [
        "Vectorisation avec TF.IDF des données textes"
      ]
    },
    {
      "cell_type": "code",
      "execution_count": null,
      "metadata": {
        "id": "pXn5YqRIhYlr"
      },
      "outputs": [],
      "source": []
    },
    {
      "cell_type": "markdown",
      "metadata": {
        "id": "My71sR7bhYZ9"
      },
      "source": [
        "Apprentissage du SVM"
      ]
    },
    {
      "cell_type": "code",
      "execution_count": null,
      "metadata": {
        "id": "kICPD9UYhehW"
      },
      "outputs": [],
      "source": []
    },
    {
      "cell_type": "markdown",
      "metadata": {
        "id": "efB21Zmche7y"
      },
      "source": [
        "Inférence avec le SVM sur les données de test"
      ]
    },
    {
      "cell_type": "code",
      "execution_count": null,
      "metadata": {
        "id": "SMC5JZ7Phih-"
      },
      "outputs": [],
      "source": []
    },
    {
      "cell_type": "markdown",
      "metadata": {
        "id": "2MV-V0J8hiyk"
      },
      "source": [
        "Evaluation du modèle sur les résultats de l'inférence"
      ]
    },
    {
      "cell_type": "code",
      "execution_count": null,
      "metadata": {
        "id": "kE3RtGZthnIz"
      },
      "outputs": [],
      "source": []
    }
  ],
  "metadata": {
    "colab": {
      "provenance": []
    },
    "kernelspec": {
      "display_name": "Python 3",
      "name": "python3"
    },
    "language_info": {
      "codemirror_mode": {
        "name": "ipython",
        "version": 3
      },
      "file_extension": ".py",
      "mimetype": "text/x-python",
      "name": "python",
      "nbconvert_exporter": "python",
      "pygments_lexer": "ipython3",
      "version": "3.10.12"
    }
  },
  "nbformat": 4,
  "nbformat_minor": 0
}
